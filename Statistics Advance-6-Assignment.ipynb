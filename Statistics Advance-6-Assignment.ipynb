{
 "cells": [
  {
   "cell_type": "markdown",
   "id": "90b984e0",
   "metadata": {},
   "source": [
    "# Q1. Explain the assumptions required to use ANOVA and provide examples of violations that could impact the validity of the results"
   ]
  },
  {
   "cell_type": "markdown",
   "id": "9b3f5ef0",
   "metadata": {},
   "source": [
    "## `Analysis of Variance(Anova):- Anove is a statistical method used to compare the means of 2 Or more group To use ANOVA effectively, certain assumptions must be met. Violations of these assumptions can impact the validity of the results. The main assumptions for ANOVA are as follows:`\n",
    "    \n"
   ]
  },
  {
   "cell_type": "raw",
   "id": "f35078fd",
   "metadata": {},
   "source": [
    "1. Normality of sampling Distribution of means the distributed of sample mean is normally distributed.\n",
    "2. Absence of Outliers Outlying score need to be removed fom dataset\n",
    "3. HOmogenity of variance:-Eaco one of the population has same variance\n",
    "    Population variance in different levels of each independent variable are equal.\n",
    "4.Samples are Independent And random."
   ]
  },
  {
   "cell_type": "code",
   "execution_count": null,
   "id": "c27770a2",
   "metadata": {},
   "outputs": [],
   "source": []
  },
  {
   "cell_type": "markdown",
   "id": "ed007e88",
   "metadata": {},
   "source": [
    "# Q2. What are the three types of ANOVA, and in what situations would each be used?"
   ]
  },
  {
   "cell_type": "raw",
   "id": "14922641",
   "metadata": {},
   "source": [
    "The three types of ANOVA:--\n",
    "    \n",
    "1. One way ANOVA:-- One factor with atleast 2 levels, these levels are Independent.\n",
    "Eg:- Doctor want to test a new medication to decrease headache. They split the participant in 3 conditions[10mg,20mg,30mg]\n",
    "Doctor ask the participants to rate the headache[1-10].\n",
    "Medication --- Factor\n",
    "\n",
    "10mg,20mg,30mg---- Levels\n",
    "\n",
    "\n",
    "2. Repeated Measures ANOVA:- One factor with atleast 2 levels, levels are dependents\n",
    "\n",
    "Eg:-- Running-- Factor\n",
    "    \n",
    "    \n",
    "Day1;- 8km,7km,9km\n",
    "Day2:- 5km,4km,3km\n",
    "Day3:- 6km,3km,7km\n",
    "    \n",
    "3.Factorial ANOVA:-- Two or more Factors(each of which with atleast 2 leaves),levels can be either indepedent and Dependent.\n",
    "\n",
    "Eg:-- Running-- Factor\n",
    "    \n",
    "Gender:-- Men and Women\n",
    "    \n",
    "Day1;- 8km,7km,9km\n",
    "Day2:- 5km,4km,3km\n",
    "Day3:- 6km,3km,7km\n",
    "Day4:- 4km,3km,5km\n",
    "    \n",
    "Two factors Male And Female in this eg Day1,Day2,Day3,Day4."
   ]
  },
  {
   "cell_type": "code",
   "execution_count": null,
   "id": "da23f42c",
   "metadata": {},
   "outputs": [],
   "source": []
  },
  {
   "cell_type": "markdown",
   "id": "dd98bfcf",
   "metadata": {},
   "source": [
    "# Q3. What is the partitioning of variance in ANOVA, and why is it important to understand this concept?"
   ]
  },
  {
   "cell_type": "markdown",
   "id": "2edae713",
   "metadata": {},
   "source": [
    "The partitioning of variance is a fundamental concept in Analysis of Variance (ANOVA), a statistical technique used to analyze and compare the means of two or more groups or treatments. It helps explain how the total variability in the data can be broken down into different sources of variation\n",
    "\n",
    "\n",
    "# The partitioning of variance is important for several reasons:\n",
    "\n",
    "`Hypothesis Testing: ANOVA allows researchers to test whether there are statistically significant differences between the group means. By partitioning the variance into between-group and within-group components,`\n",
    "\n",
    "\n",
    "`Effect Size Estimation: By examining the proportion of total variance explained by the between-group variance (SSB/SST), researchers can assess the practical significance or effect size of the group differences. Larger effect sizes indicate more substantial practical differences.`\n",
    "\n",
    "`Model Assessment: Understanding how variance is partitioned helps researchers assess the adequacy of their statistical model. If a large proportion of the variance remains unexplained (within-group variance is large),`\n",
    "\n",
    "\n",
    "`Interpretation: It provides a clear framework for interpreting the results of ANOVA.` "
   ]
  },
  {
   "cell_type": "code",
   "execution_count": null,
   "id": "cb5e3222",
   "metadata": {},
   "outputs": [],
   "source": []
  },
  {
   "cell_type": "markdown",
   "id": "c2b6c1ba",
   "metadata": {},
   "source": [
    "# Q4. How would you calculate the total sum of squares (SST), explained sum of squares (SSE), and residual sum of squares (SSR) in a one-way ANOVA using Python??"
   ]
  },
  {
   "cell_type": "raw",
   "id": "1c387bfa",
   "metadata": {},
   "source": [
    "To calculate the Total Sum of Squares (SST), Explained Sum of Squares (SSE), and Residual Sum of Squares (SSR) in a one-way ANOVA using Python, you can follow these steps:\n",
    "\n",
    "\n",
    "1. Calculate the overall mean (ˉXˉ) of all data points.\n",
    "\n",
    "2.alculate the sum of squares total (SST) by summing the squared differences between each data point and the overall mean (ˉXˉ).\n",
    "\n",
    "3.Calculate the sum of squares explained (SSE) by summing the squared differences between each group mean (ˉXj) and the overall mean (ˉXˉ), weighted by their respective sample sizes.\n",
    "\n",
    "\n",
    "4.Calculate the sum of squares residual (SSR) by summing the squared differences between individual data points and their respective group means (ˉXj), summed across all groups.\n",
    "\n",
    "\n",
    "Here's a Python example using NumPy:-----------------------------\n",
    "\n"
   ]
  },
  {
   "cell_type": "code",
   "execution_count": 1,
   "id": "11fa1bb7",
   "metadata": {},
   "outputs": [
    {
     "name": "stdout",
     "output_type": "stream",
     "text": [
      "SST (Total Sum of Squares): 7000.0\n",
      "SSE (Explained Sum of Squares): 6250.0\n",
      "SSR (Residual Sum of Squares): 750.0\n"
     ]
    }
   ],
   "source": [
    "import numpy as np\n",
    "\n",
    "# Sample data for each group\n",
    "group1 = np.array([50, 55, 60, 65, 70])\n",
    "group2 = np.array([75, 80, 85, 90, 95])\n",
    "group3 = np.array([100, 105, 110, 115, 120])\n",
    "\n",
    "# Combine data from all groups\n",
    "all_data = np.concatenate([group1, group2, group3])\n",
    "\n",
    "# Calculate overall mean\n",
    "overall_mean = np.mean(all_data)\n",
    "\n",
    "# Calculate SST (Total Sum of Squares)\n",
    "squared_diff_total = np.sum((all_data - overall_mean) ** 2)\n",
    "SST = squared_diff_total\n",
    "\n",
    "# Calculate group means\n",
    "group1_mean = np.mean(group1)\n",
    "group2_mean = np.mean(group2)\n",
    "group3_mean = np.mean(group3)\n",
    "\n",
    "# Calculate SSE (Explained Sum of Squares)\n",
    "SSE = (len(group1) * (group1_mean - overall_mean) ** 2 +\n",
    "       len(group2) * (group2_mean - overall_mean) ** 2 +\n",
    "       len(group3) * (group3_mean - overall_mean) ** 2)\n",
    "\n",
    "# Calculate SSR (Residual Sum of Squares)\n",
    "SSR = np.sum((group1 - group1_mean) ** 2) + np.sum((group2 - group2_mean) ** 2) + np.sum((group3 - group3_mean) ** 2)\n",
    "\n",
    "# Print the results\n",
    "print(\"SST (Total Sum of Squares):\", SST)\n",
    "print(\"SSE (Explained Sum of Squares):\", SSE)\n",
    "print(\"SSR (Residual Sum of Squares):\", SSR)\n"
   ]
  },
  {
   "cell_type": "code",
   "execution_count": null,
   "id": "6bb17922",
   "metadata": {},
   "outputs": [],
   "source": []
  },
  {
   "cell_type": "markdown",
   "id": "da3ec192",
   "metadata": {},
   "source": [
    "# Q5. In a two-way ANOVA, how would you calculate the main effects and interaction effects using Python?"
   ]
  },
  {
   "cell_type": "markdown",
   "id": "bf368ea7",
   "metadata": {},
   "source": [
    "`It is used to check whether there is a statistically significant difference between the mean value of three or more that has been divided into two factors. In simple words, ANOVA is a test conducted in statistics and it is used to interpret the difference between the mean value of at least three groups. The main objective of a two-way ANOVA is to find out how two factors affect a response variable and to find out whether there is a relation between the two factors on the response variable.`"
   ]
  },
  {
   "cell_type": "code",
   "execution_count": 3,
   "id": "24471df0",
   "metadata": {},
   "outputs": [
    {
     "name": "stdout",
     "output_type": "stream",
     "text": [
      "Main Effect A: 1619.105182603722\n",
      "Main Effect B: 547.2223742674029\n",
      "Interaction Effect AB: 9.129202603676638e-24\n"
     ]
    }
   ],
   "source": [
    "import pandas as pd\n",
    "import statsmodels.api as sm\n",
    "from statsmodels.formula.api import ols\n",
    "\n",
    "\n",
    "# Create a DataFrame with your data\n",
    "data = pd.DataFrame({\n",
    "    'A': [10, 15, 20, 25, 30, 35, 40, 45, 50, 55],\n",
    "    'B': [5, 10, 15, 20, 25, 30, 35, 40, 45, 50],\n",
    "    'Y': [35, 45, 50, 60, 70, 75, 85, 95, 100, 110]\n",
    "})\n",
    "\n",
    "# Fit a two-way ANOVA model with interaction\n",
    "model = ols('Y ~ A * B', data=data).fit()\n",
    "\n",
    "# Perform the ANOVA\n",
    "anova_table = sm.stats.anova_lm(model, typ=2)\n",
    "\n",
    "# Extract main effects and interaction effect\n",
    "main_effect_A = anova_table.loc['A', 'sum_sq'] / anova_table.loc['A', 'df']\n",
    "main_effect_B = anova_table.loc['B', 'sum_sq'] / anova_table.loc['B', 'df']\n",
    "interaction_effect = anova_table.loc['A:B', 'sum_sq'] / anova_table.loc['A:B', 'df']\n",
    "\n",
    "# Print the results\n",
    "print(\"Main Effect A:\", main_effect_A)\n",
    "print(\"Main Effect B:\", main_effect_B)\n",
    "print(\"Interaction Effect AB:\", interaction_effect)\n"
   ]
  },
  {
   "cell_type": "code",
   "execution_count": 5,
   "id": "ad969c20",
   "metadata": {},
   "outputs": [],
   "source": [
    "df = pd.DataFrame({'water': np.repeat(['daily', 'weekly'], 15),\n",
    "                   'sun': np.tile(np.repeat(['low', 'med', 'high'], 5), 2),\n",
    "                   'height': [6, 6, 6, 5, 6, 5, 5, 6, 4, 5,\n",
    "                              6, 6, 7, 8, 7, 3, 4, 4, 4, 5,\n",
    "                              4, 4, 4, 4, 4, 5, 6, 6, 7, 8]})"
   ]
  },
  {
   "cell_type": "code",
   "execution_count": 6,
   "id": "ce087f07",
   "metadata": {},
   "outputs": [
    {
     "data": {
      "text/html": [
       "<div>\n",
       "<style scoped>\n",
       "    .dataframe tbody tr th:only-of-type {\n",
       "        vertical-align: middle;\n",
       "    }\n",
       "\n",
       "    .dataframe tbody tr th {\n",
       "        vertical-align: top;\n",
       "    }\n",
       "\n",
       "    .dataframe thead th {\n",
       "        text-align: right;\n",
       "    }\n",
       "</style>\n",
       "<table border=\"1\" class=\"dataframe\">\n",
       "  <thead>\n",
       "    <tr style=\"text-align: right;\">\n",
       "      <th></th>\n",
       "      <th>sum_sq</th>\n",
       "      <th>df</th>\n",
       "      <th>F</th>\n",
       "      <th>PR(&gt;F)</th>\n",
       "    </tr>\n",
       "  </thead>\n",
       "  <tbody>\n",
       "    <tr>\n",
       "      <th>C(water)</th>\n",
       "      <td>8.533333</td>\n",
       "      <td>1.0</td>\n",
       "      <td>16.0000</td>\n",
       "      <td>0.000527</td>\n",
       "    </tr>\n",
       "    <tr>\n",
       "      <th>C(sun)</th>\n",
       "      <td>24.866667</td>\n",
       "      <td>2.0</td>\n",
       "      <td>23.3125</td>\n",
       "      <td>0.000002</td>\n",
       "    </tr>\n",
       "    <tr>\n",
       "      <th>C(water):C(sun)</th>\n",
       "      <td>2.466667</td>\n",
       "      <td>2.0</td>\n",
       "      <td>2.3125</td>\n",
       "      <td>0.120667</td>\n",
       "    </tr>\n",
       "    <tr>\n",
       "      <th>Residual</th>\n",
       "      <td>12.800000</td>\n",
       "      <td>24.0</td>\n",
       "      <td>NaN</td>\n",
       "      <td>NaN</td>\n",
       "    </tr>\n",
       "  </tbody>\n",
       "</table>\n",
       "</div>"
      ],
      "text/plain": [
       "                    sum_sq    df        F    PR(>F)\n",
       "C(water)          8.533333   1.0  16.0000  0.000527\n",
       "C(sun)           24.866667   2.0  23.3125  0.000002\n",
       "C(water):C(sun)   2.466667   2.0   2.3125  0.120667\n",
       "Residual         12.800000  24.0      NaN       NaN"
      ]
     },
     "execution_count": 6,
     "metadata": {},
     "output_type": "execute_result"
    }
   ],
   "source": [
    "import statsmodels.api as sm\n",
    "from statsmodels.formula.api import ols\n",
    "\n",
    "#perform two-way ANOVA\n",
    "model = ols('height ~ C(water) + C(sun) + C(water):C(sun)', data=df).fit()\n",
    "sm.stats.anova_lm(model, typ=2)"
   ]
  },
  {
   "cell_type": "code",
   "execution_count": null,
   "id": "5c171e53",
   "metadata": {},
   "outputs": [],
   "source": []
  },
  {
   "cell_type": "markdown",
   "id": "c6ecf426",
   "metadata": {},
   "source": [
    "# Q6. Suppose you conducted a one-way ANOVA and obtained an F-statistic of 5.23 and a p-value of 0.02. What can you conclude about the differences between the groups, and how would you interpret these results?"
   ]
  },
  {
   "cell_type": "raw",
   "id": "4d7d821f",
   "metadata": {},
   "source": [
    "In a one-way Analysis of Variance (ANOVA), the F-statistic is used to test whether there are statistically significant differences between the means of three or more independent groups. The p-value associated with the F-statistic indicates the probability of obtaining such an F-statistic if there were no significant differences between the group means (i.e., if the null hypothesis were true).\n",
    "\n",
    "\n",
    "F-statistic = 5.23\n",
    "p-value = 0.02\n",
    "\n",
    "\n",
    "\n",
    "1. F-statistic: The F-statistic measures the ratio of the variance between the group means to the variance within the groups. A larger F-statistic suggests that the variance between the groups is larger relative to the variance within the groups\n",
    "\n",
    "\n",
    "2. p-value: The p-value is the probability of observing an F-statistic as extreme as, or more extreme than, the one you obtained if there were no real differences between the groups (i.e., if the null hypothesis were true). In your case, the p-value is 0.02, which is less than the typical significance level of 0.05.\n",
    "\n",
    "\n",
    "Now, let's interpret the results based on the F-statistic and p-value:\n",
    "\n",
    "Null Hypothesis (H0): The null hypothesis typically assumes that there are no significant differences between the group means, i.e., all group means are equal.\n",
    "\n",
    "Alternative Hypothesis (Ha): The alternative hypothesis suggests that at least one group mean is different from the others.\n",
    "\n",
    "\n",
    "Since your p-value (0.02) is less than the commonly used significance level of 0.05 (α = 0.05), you would typically reject the null hypothesis (H0). This means you have evidence to conclude that there are statistically significant differences between at least two of the groups you compared. In other words, the groups are not all the same, and there is some factor or treatment that is influencing the dependent variable being studied.\n",
    "\n",
    "\n",
    "In summary, with an F-statistic of 5.23 and a p-value of 0.02, you can conclude that there are statistically significant differences between at least some of the groups in your study, but you would need further analysis (post-hoc tests) to determine which groups differ from each other."
   ]
  },
  {
   "cell_type": "code",
   "execution_count": null,
   "id": "7bd28545",
   "metadata": {},
   "outputs": [],
   "source": []
  },
  {
   "cell_type": "markdown",
   "id": "eb0aa88c",
   "metadata": {},
   "source": [
    "# Q7. In a repeated measures ANOVA, how would you handle missing data, and what are the potential consequences of using different methods to handle missing data?"
   ]
  },
  {
   "cell_type": "markdown",
   "id": "7295dc19",
   "metadata": {},
   "source": [
    "`Handling missing data in a repeated measures Analysis of Variance (ANOVA) is an important consideration, as missing data can impact the validity and power of your analysis. There are several methods for handling missing data in repeated measures ANOVA, and the choice of method can have consequences for the results and their interpretation...`\n",
    "\n",
    "## `Handling missing data in repeated measures ANOVA is crucial, and different methods like listwise deletion, mean imputation, and multiple imputation have varying consequences on your analysis results. The choice depends on data characteristics and assumptions, and it's vital to be aware of potential biases and impacts on statistical power.`\n",
    "\n",
    "\n",
    "## Mean Imputation:\n",
    "\n",
    "`Method: Replace missing values with the mean of the available data for that variable.`\n",
    "\n",
    "\n",
    "## Model-Based Imputation:\n",
    "\n",
    "`Method: Impute missing values using a statistical model (e.g., regression or mixed-effects models) that considers relationships among variables and subjects.`\n",
    "\n",
    "\n",
    "## Listwise Deletion:\n",
    "\n",
    "`Example: In a study of medication effects on blood pressure at three time points, some participants missed one of the measurements. With listwise deletion, any participant missing data at any time point would be excluded from the entire analysis, resulting in a smaller sample size.`\n",
    "\n",
    "\n",
    "## Pairwise Deletion:\n",
    "\n",
    "`Example: In an educational study evaluating student performance at different test sections, researchers only analyze data for students who completed all sections. If a student missed one section, their data for that section would be omitted from the analysis, but data for other sections where they performed well would be included.`\n",
    "\n",
    "\n",
    "## Last Observation Carried Forward (LOCF):\n",
    "\n",
    "`Example: In a clinical trial tracking the impact of a drug on pain levels, a participant missed the final assessment due to withdrawal from the study. LOCF would involve using the participant's pain level from the last available assessment as an estimate for the missing final assessment.`\n",
    "\n"
   ]
  },
  {
   "cell_type": "code",
   "execution_count": null,
   "id": "b6fdd4bc",
   "metadata": {},
   "outputs": [],
   "source": []
  },
  {
   "cell_type": "markdown",
   "id": "9e639a3a",
   "metadata": {},
   "source": [
    "# Q8. What are some common post-hoc tests used after ANOVA, and when would you use each one? Provide an example of a situation where a post-hoc test might be necessary."
   ]
  },
  {
   "cell_type": "markdown",
   "id": "67428b1c",
   "metadata": {},
   "source": [
    "## `Common post-hoc tests used after performing an Analysis of Variance (ANOVA) are employed to make pairwise comparisons between groups when the ANOVA indicates that there are significant differences among the group means. Post-hoc tests help identify which specific groups differ from each other.`\n",
    "\n",
    "\n"
   ]
  },
  {
   "cell_type": "raw",
   "id": "07f0f779",
   "metadata": {},
   "source": [
    "Tukey's Honestly Significant Difference (HSD):\n",
    "\n",
    "When to Use: Use Tukey's HSD when you have three or more groups and you want to determine which pairs of groups have significantly different means. It controls the familywise error rate.\n",
    "Example: In a drug trial, you have four different drug dosage groups, and the ANOVA indicates a significant overall effect. Tukey's HSD can help identify which dosages differ significantly in terms of their impact on a specific outcome measure.\n",
    "Bonferroni Correction:\n",
    "\n",
    "When to Use: Bonferroni correction can be used when conducting multiple pairwise comparisons. It's a conservative method to control the overall Type I error rate but can be overly conservative with larger numbers of comparisons.\n",
    "Example: You are conducting a marketing study comparing the effectiveness of advertising strategies across 10 different markets. Bonferroni correction can be used to adjust the significance level when making multiple comparisons between these markets.\n",
    "Sidak Correction:\n",
    "\n",
    "When to Use: Similar to Bonferroni, Sidak correction is used to control the familywise error rate in multiple comparisons. It's less conservative than Bonferroni when making a large number of comparisons.\n",
    "Example: In a study of various treatment options for a medical condition, you have eight different treatment groups, and you want to identify which groups have significantly different outcomes. Sidak correction can help you manage the increased risk of Type I errors associated with multiple comparisons.\n",
    "Duncan's Multiple Range Test:\n",
    "\n",
    "When to Use: Duncan's test is useful when you have a specific hypothesis about which groups might differ and you want to compare groups step by step. It's less commonly used than Tukey's HSD but can be more powerful in some cases.\n",
    "Example: In an educational study, you have four teaching methods, and you hypothesize that one method is superior to the others. Duncan's test can be used to confirm whether this specific method is significantly better than the rest.\n",
    "Fisher's Least Significant Difference (LSD):\n",
    "\n",
    "When to Use: Fisher's LSD is a less stringent post-hoc test that can be useful when you have a small number of groups and want to make pairwise comparisons. However, it does not control the overall Type I error rate as effectively as Tukey's HSD or Bonferroni.\n",
    "Example: In a study comparing the growth of different plant varieties under varying conditions, you have five varieties to compare. Fisher's LSD can help identify which varieties significantly differ in their growth rates."
   ]
  },
  {
   "cell_type": "markdown",
   "id": "59c63dd8",
   "metadata": {},
   "source": [
    "# post-hoc tests are used after ANOVA to pinpoint where the significant differences lie among multiple groups. The choice of post-hoc test depends on the nature of your data and research questions, and it's important to select an appropriate test that aligns with your study design and assumptions."
   ]
  },
  {
   "cell_type": "code",
   "execution_count": null,
   "id": "b238f0f7",
   "metadata": {},
   "outputs": [],
   "source": []
  },
  {
   "cell_type": "markdown",
   "id": "2d24d088",
   "metadata": {},
   "source": [
    "# Q9. A researcher wants to compare the mean weight loss of three diets: A, B, and C. They collect data from 50 participants who were randomly assigned to one of the diets. Conduct a one-way ANOVA using Python to determine if there are any significant differences between the mean weight loss of the three diets. Report the F-statistic and p-value, and interpret the results."
   ]
  },
  {
   "cell_type": "code",
   "execution_count": 5,
   "id": "9919f9b8",
   "metadata": {},
   "outputs": [
    {
     "name": "stdout",
     "output_type": "stream",
     "text": [
      "F-statistic: 1.64\n",
      "P-value: 0.1967\n",
      "There is no statistically significant difference between the mean weight loss of the three diets.\n"
     ]
    }
   ],
   "source": [
    "# conduct a one-way ANOVA in Python to compare the mean weight loss of three diets (A, B, and C)\n",
    "import numpy as np\n",
    "import scipy.stats as stats\n",
    "\n",
    "# Sample data (weight loss in pounds for each diet group)\n",
    "diet_A = np.random.randint(1,500,50)\n",
    "diet_B = np.random.randint(1,500,50)\n",
    "diet_C = np.random.randint(1,500,50)\n",
    "# Perform one-way ANOVA\n",
    "f_statistic, p_value = stats.f_oneway(diet_A, diet_B, diet_C)\n",
    "\n",
    "# Print results\n",
    "print(f\"F-statistic: {f_statistic:.2f}\")\n",
    "print(f\"P-value: {p_value:.4f}\")\n",
    "\n",
    "# Interpretation\n",
    "if p_value < 0.05:\n",
    "    print(\"There is a statistically significant difference between the mean weight loss of the three diets.\")\n",
    "else:\n",
    "    print(\"There is no statistically significant difference between the mean weight loss of the three diets.\")\n"
   ]
  },
  {
   "cell_type": "raw",
   "id": "3e86b5e9",
   "metadata": {},
   "source": [
    "Interpretation:\n",
    "\n",
    "If the p-value is less than your chosen significance level (e.g., 0.05), you can conclude that there is a statistically significant difference between the mean weight loss of the three diets.\n",
    "If the p-value is greater than your chosen significance level, you would conclude that there is no statistically significant difference between the mean weight loss of the three diets.\n",
    "You should replace the sample data with your actual data for the three diets to conduct the analysis on your specific dataset."
   ]
  },
  {
   "cell_type": "code",
   "execution_count": null,
   "id": "1a378a2e",
   "metadata": {},
   "outputs": [],
   "source": []
  },
  {
   "cell_type": "markdown",
   "id": "0bd5005d",
   "metadata": {},
   "source": [
    "## `Q10. A company wants to know if there are any significant differences in the average time it takes to complete a task using three different software programs: Program A, Program B, and Program C. They randomly assign 30 employees to one of the programs and record the time it takes each employee to complete the task. Conduct a two-way ANOVA using Python to determine if there are any main effects or interaction effects between the software programs and employee experience level (novice vs. experienced). Report the F-statistics and p-values, and interpret the results.`"
   ]
  },
  {
   "cell_type": "raw",
   "id": "e93aca92",
   "metadata": {},
   "source": [
    "To conduct a two-way ANOVA in Python to determine if there are main effects or interaction effects between software programs and employee experience levels"
   ]
  },
  {
   "cell_type": "code",
   "execution_count": 126,
   "id": "109d70a8",
   "metadata": {},
   "outputs": [],
   "source": [
    "import pandas as pd\n",
    "import numpy as np\n",
    "\n",
    "# Create sample data\n",
    "np.random.seed(0)\n",
    "software = np.random.choice(['A', 'B', 'C'], size=50)\n",
    "experience = np.random.choice(['Novice', 'Experienced'], size=50)\n",
    "time = np.random.normal(loc=15, scale=1.5, size=50)\n",
    "\n",
    "# Create a DataFrame\n",
    "data = pd.DataFrame({'Software': software, 'Experience': experience, 'Time': time})\n",
    "\n",
    "# Save the data to a CSV file\n",
    "data.to_csv('employee_data.csv', index=False)\n"
   ]
  },
  {
   "cell_type": "code",
   "execution_count": 127,
   "id": "af11ea66",
   "metadata": {},
   "outputs": [
    {
     "name": "stdout",
     "output_type": "stream",
     "text": [
      "                              sum_sq    df         F    PR(>F)\n",
      "C(Software)                 0.085521   2.0  0.022731  0.977537\n",
      "C(Experience)               0.215512   1.0  0.114562  0.736619\n",
      "C(Software):C(Experience)   1.492589   2.0  0.396717  0.674905\n",
      "Residual                   82.771678  44.0       NaN       NaN\n"
     ]
    }
   ],
   "source": [
    "import pandas as pd\n",
    "import statsmodels.api as sm\n",
    "from statsmodels.formula.api import ols\n",
    "\n",
    "# Load data from the CSV file\n",
    "data = pd.read_csv('employee_data.csv')\n",
    "\n",
    "# Perform a two-way ANOVA\n",
    "formula = 'Time ~ C(Software) * C(Experience)'\n",
    "model = ols(formula, data=data).fit()\n",
    "anova_table = sm.stats.anova_lm(model, typ=2)\n",
    "\n",
    "# Print the ANOVA table\n",
    "print(anova_table)\n"
   ]
  },
  {
   "cell_type": "code",
   "execution_count": null,
   "id": "0dd2bc9d",
   "metadata": {},
   "outputs": [],
   "source": []
  },
  {
   "cell_type": "raw",
   "id": "ed422518",
   "metadata": {},
   "source": [
    "Q11. An educational researcher is interested in whether a new teaching method improves student test\n",
    "scores. They randomly assign 100 students to either the control group (traditional teaching method) or the\n",
    "experimental group (new teaching method) and administer a test at the end of the semester. Conduct a\n",
    "two-sample t-test using Python to determine if there are any significant differences in test scores\n",
    "between the two groups. If the results are significant, follow up with a post-hoc test to determine which\n",
    "group(s) differ significantly from each other."
   ]
  },
  {
   "cell_type": "markdown",
   "id": "e3b467e2",
   "metadata": {},
   "source": [
    "# First, let's assume you have the test scores for the control and experimental groups in two separate arrays:"
   ]
  },
  {
   "cell_type": "code",
   "execution_count": 35,
   "id": "0366c11d",
   "metadata": {},
   "outputs": [],
   "source": [
    "import numpy as np\n",
    "from scipy import stats\n",
    "\n",
    "# Test scores for the control group (traditional teaching method)\n",
    "control_group_scores = np.array([75, 82, 90, 68, 78, 85, 92, 70, 79, 88, \n",
    "                                 72, 81, 89, 67, 77, 86, 93, 71, 80, 87])\n",
    "\n",
    "# Test scores for the experimental group (new teaching method)\n",
    "experimental_group_scores = np.array([82, 91, 96, 75, 85, 94, 99, 78, 88, 97, \n",
    "                                      80, 89, 95, 76, 86, 92, 100, 79, 87, 98])\n"
   ]
  },
  {
   "cell_type": "code",
   "execution_count": 36,
   "id": "1ea485c5",
   "metadata": {},
   "outputs": [
    {
     "name": "stdout",
     "output_type": "stream",
     "text": [
      "t-statistic: -3.07\n",
      "P-value: 0.0040\n",
      "There is a statistically significant difference in test scores between the two groups.\n"
     ]
    }
   ],
   "source": [
    "# Now, you can perform a two-sample t-test to compare the means of the two groups:\n",
    "\n",
    "# Perform a two-sample t-test\n",
    "t_statistic, p_value = stats.ttest_ind(control_group_scores, experimental_group_scores)\n",
    "\n",
    "# Print the results\n",
    "print(f\"t-statistic: {t_statistic:.2f}\")\n",
    "print(f\"P-value: {p_value:.4f}\")\n",
    "\n",
    "# Interpret the results\n",
    "if p_value < 0.05:\n",
    "    print(\"There is a statistically significant difference in test scores between the two groups.\")\n",
    "else:\n",
    "    print(\"There is no statistically significant difference in test scores between the two groups.\")\n"
   ]
  },
  {
   "cell_type": "raw",
   "id": "fc0da729",
   "metadata": {},
   "source": [
    "Interpretation:\n",
    "\n",
    "t-statistic: This statistic measures the difference in means relative to the variation in the data.\n",
    "P-value: This is the probability of observing the results (or more extreme results) if there were no significant differences between the groups.\n",
    "If the p-value is less than your chosen significance level (e.g., 0.05), it indicates a statistically significant difference in test scores between the control and experimental groups.\n",
    "\n",
    "If the results are significant, you can follow up with a post-hoc test like Tukey's HSD to determine which group(s) differ significantly from each other. However, for a two-group comparison, post-hoc tests are not typically needed, as you have already identified the significant difference. Post-hoc tests are more relevant when comparing multiple groups."
   ]
  },
  {
   "cell_type": "code",
   "execution_count": null,
   "id": "0698441f",
   "metadata": {},
   "outputs": [],
   "source": []
  },
  {
   "cell_type": "markdown",
   "id": "f53e13de",
   "metadata": {},
   "source": [
    "## `Q12. A researcher wants to know if there are any significant differences in the average daily sales of three retail stores: Store A, Store B, and Store C. They randomly select 30 days and record the sales for each store on those days. Conduct a repeated measures ANOVA using Python to determine if there are any significant differences in sales between the three stores. If the results are significant, follow up with a post-hoc test to determine which store(s) differ significantly from each other.`"
   ]
  },
  {
   "cell_type": "raw",
   "id": "9f6ee399",
   "metadata": {},
   "source": [
    "A repeated measures ANOVA is typically used when you have measured the same subjects or entities under multiple conditions or at multiple time points. In your scenario, you have recorded the sales of three retail stores on 30 different days. A repeated measures ANOVA may not be the most appropriate test because you are not measuring the same subjects repeatedly;\n",
    "\n",
    "\n",
    "A one-way ANOVA with a post-hoc test, such as Tukey's HSD, is more suitable for comparing the average daily sales between three different stores. Here's how you can conduct a one-way ANOVA and then follow up with Tukey's HSD post-hoc test using Python:"
   ]
  },
  {
   "cell_type": "code",
   "execution_count": 58,
   "id": "9484c8c9",
   "metadata": {},
   "outputs": [
    {
     "name": "stdout",
     "output_type": "stream",
     "text": [
      "One-way ANOVA results - F-statistic: 3.35, p-value: 0.0396\n",
      " Multiple Comparison of Means - Tukey HSD, FWER=0.05  \n",
      "======================================================\n",
      "group1 group2 meandiff p-adj   lower    upper   reject\n",
      "------------------------------------------------------\n",
      "     A      B     -4.5 0.9785 -58.5927  49.5927  False\n",
      "     A      C  48.4667 0.0884  -5.6261 102.5594  False\n",
      "     B      C  52.9667 0.0563  -1.1261 107.0594  False\n",
      "------------------------------------------------------\n"
     ]
    }
   ],
   "source": [
    "import numpy as np\n",
    "import pandas as pd\n",
    "from scipy import stats\n",
    "from statsmodels.stats.multicomp import pairwise_tukeyhsd\n",
    "\n",
    "# Sample data (replace with your actual data)\n",
    "data = {\n",
    "    'Store': ['A'] * 30 + ['B'] * 30 + ['C'] * 30,  # 30 days for each store\n",
    "    'Sales': np.concatenate((\n",
    "        np.random.randint(200, 500, 30),  # Store A daily sales\n",
    "        np.random.randint(180, 480, 30),  # Store B daily sales\n",
    "        np.random.randint(220, 520, 30)   # Store C daily sales\n",
    "    ))\n",
    "}\n",
    "\n",
    "# Create a DataFrame\n",
    "df = pd.DataFrame(data)\n",
    "\n",
    "# Perform a one-way ANOVA\n",
    "f_statistic, p_value = stats.f_oneway(df[df['Store'] == 'A']['Sales'],\n",
    "                                       df[df['Store'] == 'B']['Sales'],\n",
    "                                       df[df['Store'] == 'C']['Sales'])\n",
    "\n",
    "# Print the results\n",
    "print(f\"One-way ANOVA results - F-statistic: {f_statistic:.2f}, p-value: {p_value:.4f}\")\n",
    "\n",
    "# Follow up with Tukey's HSD post-hoc test\n",
    "posthoc = pairwise_tukeyhsd(df['Sales'], df['Store'], alpha=0.05)\n",
    "\n",
    "# Print the post-hoc test summary\n",
    "print(posthoc)\n"
   ]
  },
  {
   "cell_type": "code",
   "execution_count": null,
   "id": "bdc189af",
   "metadata": {},
   "outputs": [],
   "source": []
  }
 ],
 "metadata": {
  "kernelspec": {
   "display_name": "Python 3 (ipykernel)",
   "language": "python",
   "name": "python3"
  },
  "language_info": {
   "codemirror_mode": {
    "name": "ipython",
    "version": 3
   },
   "file_extension": ".py",
   "mimetype": "text/x-python",
   "name": "python",
   "nbconvert_exporter": "python",
   "pygments_lexer": "ipython3",
   "version": "3.9.12"
  }
 },
 "nbformat": 4,
 "nbformat_minor": 5
}
